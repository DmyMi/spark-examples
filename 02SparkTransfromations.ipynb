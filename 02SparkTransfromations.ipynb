{
 "cells": [
  {
   "cell_type": "code",
   "execution_count": 323,
   "metadata": {},
   "outputs": [],
   "source": [
    "from pyspark import SparkConf, SparkContext"
   ]
  },
  {
   "cell_type": "code",
   "execution_count": 324,
   "metadata": {},
   "outputs": [],
   "source": [
    "number_cores = 2\n",
    "memory_gb = 4\n",
    "# Create a configuration object and\n",
    "# set the name of the application\n",
    "conf = (\n",
    "    SparkConf()\n",
    "        .setAppName(\"SparkExample\")\n",
    "        .setMaster('local[{}]'.format(number_cores))\n",
    "        .set('spark.driver.memory', '{}g'.format(memory_gb))\n",
    ")\n",
    "# Create a Spark Context object\n",
    "sc = SparkContext(conf=conf)"
   ]
  },
  {
   "cell_type": "markdown",
   "metadata": {},
   "source": [
    "# Map"
   ]
  },
  {
   "cell_type": "code",
   "execution_count": 325,
   "metadata": {},
   "outputs": [],
   "source": [
    "numbers = sc.parallelize(range(10))"
   ]
  },
  {
   "cell_type": "code",
   "execution_count": 326,
   "metadata": {},
   "outputs": [
    {
     "name": "stderr",
     "output_type": "stream",
     "text": [
      "                                                                                \r"
     ]
    },
    {
     "data": {
      "text/plain": [
       "[0, 10, 20, 30, 40, 50, 60, 70, 80, 90]"
      ]
     },
     "execution_count": 326,
     "metadata": {},
     "output_type": "execute_result"
    }
   ],
   "source": [
    "numbers.map(lambda x:x * 10).collect()"
   ]
  },
  {
   "cell_type": "code",
   "execution_count": 327,
   "metadata": {},
   "outputs": [
    {
     "data": {
      "text/plain": [
       "[0, 10, 20, 30, 40, 50, 60, 70, 80, 90]"
      ]
     },
     "execution_count": 327,
     "metadata": {},
     "output_type": "execute_result"
    }
   ],
   "source": [
    "def times_ten(x):\n",
    "    return x * 10\n",
    "\n",
    "numbers.map(times_ten).collect()"
   ]
  },
  {
   "cell_type": "markdown",
   "metadata": {},
   "source": [
    "# Filter"
   ]
  },
  {
   "cell_type": "code",
   "execution_count": 328,
   "metadata": {},
   "outputs": [],
   "source": [
    "numbers = sc.parallelize(range(10))"
   ]
  },
  {
   "cell_type": "code",
   "execution_count": 329,
   "metadata": {},
   "outputs": [
    {
     "data": {
      "text/plain": [
       "[0, 1, 2, 3, 4, 5, 6, 7, 8, 9]"
      ]
     },
     "execution_count": 329,
     "metadata": {},
     "output_type": "execute_result"
    }
   ],
   "source": [
    "numbers.collect()"
   ]
  },
  {
   "cell_type": "code",
   "execution_count": 330,
   "metadata": {},
   "outputs": [
    {
     "data": {
      "text/plain": [
       "[0, 2, 4, 6, 8]"
      ]
     },
     "execution_count": 330,
     "metadata": {},
     "output_type": "execute_result"
    }
   ],
   "source": [
    "def is_even(x):\n",
    "    return (x % 2) == 0\n",
    "\n",
    "numbers.filter(is_even).collect()"
   ]
  },
  {
   "cell_type": "code",
   "execution_count": 331,
   "metadata": {},
   "outputs": [
    {
     "data": {
      "text/plain": [
       "[1, 3, 5, 7, 9]"
      ]
     },
     "execution_count": 331,
     "metadata": {},
     "output_type": "execute_result"
    }
   ],
   "source": [
    "def is_odd(x):\n",
    "    return (x % 2)\n",
    "\n",
    "numbers.filter(is_odd).collect()"
   ]
  },
  {
   "cell_type": "markdown",
   "metadata": {},
   "source": [
    "# Flatmap"
   ]
  },
  {
   "cell_type": "code",
   "execution_count": 332,
   "metadata": {},
   "outputs": [],
   "source": [
    "text = sc.textFile(\"input/sample.txt\")"
   ]
  },
  {
   "cell_type": "code",
   "execution_count": 333,
   "metadata": {},
   "outputs": [
    {
     "data": {
      "text/plain": [
       "['Lorem ipsum dolor sit amet, consectetur adipiscing elit.',\n",
       " 'Donec vitae consectetur nisl, vel blandit magna.',\n",
       " 'Pellentesque vel magna faucibus lectus suscipit varius ut id lorem.',\n",
       " 'Nulla pretium diam mauris, vel tincidunt quam tempor non.',\n",
       " 'Praesent non convallis ante. Nunc in velit ut dolor malesuada pellentesque.',\n",
       " 'Nulla ultrices bibendum posuere. Mauris at est pulvinar sapien ultricies commodo.',\n",
       " 'Morbi eu nunc turpis. Nunc interdum sem eget nunc aliquet suscipit.',\n",
       " 'Nullam aliquet varius neque, sit amet condimentum odio euismod at.',\n",
       " 'Donec semper dapibus odio, non luctus sem commodo nec.',\n",
       " 'Quisque at tristique sapien, ut porta nibh.',\n",
       " 'Donec mauris arcu, elementum eu commodo sed, condimentum et enim.',\n",
       " 'In sed nunc neque.',\n",
       " 'Vestibulum a suscipit velit. Sed viverra purus sit amet facilisis vehicula.']"
      ]
     },
     "execution_count": 333,
     "metadata": {},
     "output_type": "execute_result"
    }
   ],
   "source": [
    "text.collect()"
   ]
  },
  {
   "cell_type": "code",
   "execution_count": 334,
   "metadata": {},
   "outputs": [],
   "source": [
    "words = text.flatMap(lambda x: x.split(\" \"))"
   ]
  },
  {
   "cell_type": "code",
   "execution_count": 335,
   "metadata": {},
   "outputs": [
    {
     "data": {
      "text/plain": [
       "['Lorem',\n",
       " 'ipsum',\n",
       " 'dolor',\n",
       " 'sit',\n",
       " 'amet,',\n",
       " 'consectetur',\n",
       " 'adipiscing',\n",
       " 'elit.',\n",
       " 'Donec',\n",
       " 'vitae',\n",
       " 'consectetur',\n",
       " 'nisl,',\n",
       " 'vel',\n",
       " 'blandit',\n",
       " 'magna.',\n",
       " 'Pellentesque',\n",
       " 'vel',\n",
       " 'magna',\n",
       " 'faucibus',\n",
       " 'lectus',\n",
       " 'suscipit',\n",
       " 'varius',\n",
       " 'ut',\n",
       " 'id',\n",
       " 'lorem.',\n",
       " 'Nulla',\n",
       " 'pretium',\n",
       " 'diam',\n",
       " 'mauris,',\n",
       " 'vel',\n",
       " 'tincidunt',\n",
       " 'quam',\n",
       " 'tempor',\n",
       " 'non.',\n",
       " 'Praesent',\n",
       " 'non',\n",
       " 'convallis',\n",
       " 'ante.',\n",
       " 'Nunc',\n",
       " 'in',\n",
       " 'velit',\n",
       " 'ut',\n",
       " 'dolor',\n",
       " 'malesuada',\n",
       " 'pellentesque.',\n",
       " 'Nulla',\n",
       " 'ultrices',\n",
       " 'bibendum',\n",
       " 'posuere.',\n",
       " 'Mauris',\n",
       " 'at',\n",
       " 'est',\n",
       " 'pulvinar',\n",
       " 'sapien',\n",
       " 'ultricies',\n",
       " 'commodo.',\n",
       " 'Morbi',\n",
       " 'eu',\n",
       " 'nunc',\n",
       " 'turpis.',\n",
       " 'Nunc',\n",
       " 'interdum',\n",
       " 'sem',\n",
       " 'eget',\n",
       " 'nunc',\n",
       " 'aliquet',\n",
       " 'suscipit.',\n",
       " 'Nullam',\n",
       " 'aliquet',\n",
       " 'varius',\n",
       " 'neque,',\n",
       " 'sit',\n",
       " 'amet',\n",
       " 'condimentum',\n",
       " 'odio',\n",
       " 'euismod',\n",
       " 'at.',\n",
       " 'Donec',\n",
       " 'semper',\n",
       " 'dapibus',\n",
       " 'odio,',\n",
       " 'non',\n",
       " 'luctus',\n",
       " 'sem',\n",
       " 'commodo',\n",
       " 'nec.',\n",
       " 'Quisque',\n",
       " 'at',\n",
       " 'tristique',\n",
       " 'sapien,',\n",
       " 'ut',\n",
       " 'porta',\n",
       " 'nibh.',\n",
       " 'Donec',\n",
       " 'mauris',\n",
       " 'arcu,',\n",
       " 'elementum',\n",
       " 'eu',\n",
       " 'commodo',\n",
       " 'sed,',\n",
       " 'condimentum',\n",
       " 'et',\n",
       " 'enim.',\n",
       " 'In',\n",
       " 'sed',\n",
       " 'nunc',\n",
       " 'neque.',\n",
       " 'Vestibulum',\n",
       " 'a',\n",
       " 'suscipit',\n",
       " 'velit.',\n",
       " 'Sed',\n",
       " 'viverra',\n",
       " 'purus',\n",
       " 'sit',\n",
       " 'amet',\n",
       " 'facilisis',\n",
       " 'vehicula.']"
      ]
     },
     "execution_count": 335,
     "metadata": {},
     "output_type": "execute_result"
    }
   ],
   "source": [
    "words.collect()"
   ]
  },
  {
   "cell_type": "code",
   "execution_count": 336,
   "metadata": {},
   "outputs": [
    {
     "data": {
      "text/plain": [
       "[['Lorem',\n",
       "  'ipsum',\n",
       "  'dolor',\n",
       "  'sit',\n",
       "  'amet,',\n",
       "  'consectetur',\n",
       "  'adipiscing',\n",
       "  'elit.'],\n",
       " ['Donec', 'vitae', 'consectetur', 'nisl,', 'vel', 'blandit', 'magna.'],\n",
       " ['Pellentesque',\n",
       "  'vel',\n",
       "  'magna',\n",
       "  'faucibus',\n",
       "  'lectus',\n",
       "  'suscipit',\n",
       "  'varius',\n",
       "  'ut',\n",
       "  'id',\n",
       "  'lorem.'],\n",
       " ['Nulla',\n",
       "  'pretium',\n",
       "  'diam',\n",
       "  'mauris,',\n",
       "  'vel',\n",
       "  'tincidunt',\n",
       "  'quam',\n",
       "  'tempor',\n",
       "  'non.'],\n",
       " ['Praesent',\n",
       "  'non',\n",
       "  'convallis',\n",
       "  'ante.',\n",
       "  'Nunc',\n",
       "  'in',\n",
       "  'velit',\n",
       "  'ut',\n",
       "  'dolor',\n",
       "  'malesuada',\n",
       "  'pellentesque.'],\n",
       " ['Nulla',\n",
       "  'ultrices',\n",
       "  'bibendum',\n",
       "  'posuere.',\n",
       "  'Mauris',\n",
       "  'at',\n",
       "  'est',\n",
       "  'pulvinar',\n",
       "  'sapien',\n",
       "  'ultricies',\n",
       "  'commodo.'],\n",
       " ['Morbi',\n",
       "  'eu',\n",
       "  'nunc',\n",
       "  'turpis.',\n",
       "  'Nunc',\n",
       "  'interdum',\n",
       "  'sem',\n",
       "  'eget',\n",
       "  'nunc',\n",
       "  'aliquet',\n",
       "  'suscipit.'],\n",
       " ['Nullam',\n",
       "  'aliquet',\n",
       "  'varius',\n",
       "  'neque,',\n",
       "  'sit',\n",
       "  'amet',\n",
       "  'condimentum',\n",
       "  'odio',\n",
       "  'euismod',\n",
       "  'at.'],\n",
       " ['Donec',\n",
       "  'semper',\n",
       "  'dapibus',\n",
       "  'odio,',\n",
       "  'non',\n",
       "  'luctus',\n",
       "  'sem',\n",
       "  'commodo',\n",
       "  'nec.'],\n",
       " ['Quisque', 'at', 'tristique', 'sapien,', 'ut', 'porta', 'nibh.'],\n",
       " ['Donec',\n",
       "  'mauris',\n",
       "  'arcu,',\n",
       "  'elementum',\n",
       "  'eu',\n",
       "  'commodo',\n",
       "  'sed,',\n",
       "  'condimentum',\n",
       "  'et',\n",
       "  'enim.'],\n",
       " ['In', 'sed', 'nunc', 'neque.'],\n",
       " ['Vestibulum',\n",
       "  'a',\n",
       "  'suscipit',\n",
       "  'velit.',\n",
       "  'Sed',\n",
       "  'viverra',\n",
       "  'purus',\n",
       "  'sit',\n",
       "  'amet',\n",
       "  'facilisis',\n",
       "  'vehicula.']]"
      ]
     },
     "execution_count": 336,
     "metadata": {},
     "output_type": "execute_result"
    }
   ],
   "source": [
    "text.map(lambda x: x.split(\" \")).collect()"
   ]
  },
  {
   "cell_type": "code",
   "execution_count": 337,
   "metadata": {},
   "outputs": [
    {
     "data": {
      "text/plain": [
       "118"
      ]
     },
     "execution_count": 337,
     "metadata": {},
     "output_type": "execute_result"
    }
   ],
   "source": [
    "words.count()"
   ]
  },
  {
   "cell_type": "markdown",
   "metadata": {},
   "source": [
    "# Map partitions"
   ]
  },
  {
   "cell_type": "code",
   "execution_count": 338,
   "metadata": {},
   "outputs": [],
   "source": [
    "text = sc.textFile(\"input/sample.txt\", minPartitions=5)"
   ]
  },
  {
   "cell_type": "code",
   "execution_count": 339,
   "metadata": {},
   "outputs": [],
   "source": [
    "words = text.flatMap(lambda x:x.split(\" \"))"
   ]
  },
  {
   "cell_type": "code",
   "execution_count": 340,
   "metadata": {},
   "outputs": [],
   "source": [
    "def count_words(iterator):\n",
    "    counts = {}\n",
    "    for w in iterator:\n",
    "        if w in counts:\n",
    "            counts[w] += 1\n",
    "        else:\n",
    "            counts[w] = 1\n",
    "    yield counts\n",
    "\n",
    "word_counts = words.mapPartitions(count_words)"
   ]
  },
  {
   "cell_type": "code",
   "execution_count": 341,
   "metadata": {},
   "outputs": [
    {
     "data": {
      "text/plain": [
       "[{'Lorem': 1,\n",
       "  'ipsum': 1,\n",
       "  'dolor': 1,\n",
       "  'sit': 1,\n",
       "  'amet,': 1,\n",
       "  'consectetur': 2,\n",
       "  'adipiscing': 1,\n",
       "  'elit.': 1,\n",
       "  'Donec': 1,\n",
       "  'vitae': 1,\n",
       "  'nisl,': 1,\n",
       "  'vel': 2,\n",
       "  'blandit': 1,\n",
       "  'magna.': 1,\n",
       "  'Pellentesque': 1,\n",
       "  'magna': 1,\n",
       "  'faucibus': 1,\n",
       "  'lectus': 1,\n",
       "  'suscipit': 1,\n",
       "  'varius': 1,\n",
       "  'ut': 1,\n",
       "  'id': 1,\n",
       "  'lorem.': 1},\n",
       " {'Nulla': 2,\n",
       "  'pretium': 1,\n",
       "  'diam': 1,\n",
       "  'mauris,': 1,\n",
       "  'vel': 1,\n",
       "  'tincidunt': 1,\n",
       "  'quam': 1,\n",
       "  'tempor': 1,\n",
       "  'non.': 1,\n",
       "  'Praesent': 1,\n",
       "  'non': 1,\n",
       "  'convallis': 1,\n",
       "  'ante.': 1,\n",
       "  'Nunc': 1,\n",
       "  'in': 1,\n",
       "  'velit': 1,\n",
       "  'ut': 1,\n",
       "  'dolor': 1,\n",
       "  'malesuada': 1,\n",
       "  'pellentesque.': 1,\n",
       "  'ultrices': 1,\n",
       "  'bibendum': 1,\n",
       "  'posuere.': 1,\n",
       "  'Mauris': 1,\n",
       "  'at': 1,\n",
       "  'est': 1,\n",
       "  'pulvinar': 1,\n",
       "  'sapien': 1,\n",
       "  'ultricies': 1,\n",
       "  'commodo.': 1},\n",
       " {'Morbi': 1,\n",
       "  'eu': 1,\n",
       "  'nunc': 2,\n",
       "  'turpis.': 1,\n",
       "  'Nunc': 1,\n",
       "  'interdum': 1,\n",
       "  'sem': 1,\n",
       "  'eget': 1,\n",
       "  'aliquet': 2,\n",
       "  'suscipit.': 1,\n",
       "  'Nullam': 1,\n",
       "  'varius': 1,\n",
       "  'neque,': 1,\n",
       "  'sit': 1,\n",
       "  'amet': 1,\n",
       "  'condimentum': 1,\n",
       "  'odio': 1,\n",
       "  'euismod': 1,\n",
       "  'at.': 1},\n",
       " {'Donec': 2,\n",
       "  'semper': 1,\n",
       "  'dapibus': 1,\n",
       "  'odio,': 1,\n",
       "  'non': 1,\n",
       "  'luctus': 1,\n",
       "  'sem': 1,\n",
       "  'commodo': 2,\n",
       "  'nec.': 1,\n",
       "  'Quisque': 1,\n",
       "  'at': 1,\n",
       "  'tristique': 1,\n",
       "  'sapien,': 1,\n",
       "  'ut': 1,\n",
       "  'porta': 1,\n",
       "  'nibh.': 1,\n",
       "  'mauris': 1,\n",
       "  'arcu,': 1,\n",
       "  'elementum': 1,\n",
       "  'eu': 1,\n",
       "  'sed,': 1,\n",
       "  'condimentum': 1,\n",
       "  'et': 1,\n",
       "  'enim.': 1},\n",
       " {'In': 1,\n",
       "  'sed': 1,\n",
       "  'nunc': 1,\n",
       "  'neque.': 1,\n",
       "  'Vestibulum': 1,\n",
       "  'a': 1,\n",
       "  'suscipit': 1,\n",
       "  'velit.': 1,\n",
       "  'Sed': 1,\n",
       "  'viverra': 1,\n",
       "  'purus': 1,\n",
       "  'sit': 1,\n",
       "  'amet': 1,\n",
       "  'facilisis': 1,\n",
       "  'vehicula.': 1}]"
      ]
     },
     "execution_count": 341,
     "metadata": {},
     "output_type": "execute_result"
    }
   ],
   "source": [
    "word_counts.collect()"
   ]
  },
  {
   "cell_type": "markdown",
   "metadata": {},
   "source": [
    "# Sample"
   ]
  },
  {
   "cell_type": "code",
   "execution_count": 342,
   "metadata": {},
   "outputs": [],
   "source": [
    "data = sc.parallelize(range(10000))"
   ]
  },
  {
   "cell_type": "code",
   "execution_count": 343,
   "metadata": {},
   "outputs": [
    {
     "data": {
      "text/plain": [
       "10000"
      ]
     },
     "execution_count": 343,
     "metadata": {},
     "output_type": "execute_result"
    }
   ],
   "source": [
    "data.count()"
   ]
  },
  {
   "cell_type": "code",
   "execution_count": 344,
   "metadata": {},
   "outputs": [
    {
     "data": {
      "text/plain": [
       "1009"
      ]
     },
     "execution_count": 344,
     "metadata": {},
     "output_type": "execute_result"
    }
   ],
   "source": [
    "data.sample(False, 0.1).count()"
   ]
  },
  {
   "cell_type": "markdown",
   "metadata": {},
   "source": [
    "# Union"
   ]
  },
  {
   "cell_type": "code",
   "execution_count": 345,
   "metadata": {},
   "outputs": [],
   "source": [
    "rdd1 = sc.parallelize(range(5))"
   ]
  },
  {
   "cell_type": "code",
   "execution_count": 346,
   "metadata": {},
   "outputs": [
    {
     "data": {
      "text/plain": [
       "[0, 1, 2, 3, 4]"
      ]
     },
     "execution_count": 346,
     "metadata": {},
     "output_type": "execute_result"
    }
   ],
   "source": [
    "rdd1.collect()"
   ]
  },
  {
   "cell_type": "code",
   "execution_count": 347,
   "metadata": {},
   "outputs": [],
   "source": [
    "rdd2 = sc.parallelize(range(5,10))"
   ]
  },
  {
   "cell_type": "code",
   "execution_count": 348,
   "metadata": {},
   "outputs": [
    {
     "data": {
      "text/plain": [
       "[5, 6, 7, 8, 9]"
      ]
     },
     "execution_count": 348,
     "metadata": {},
     "output_type": "execute_result"
    }
   ],
   "source": [
    "rdd2.collect()"
   ]
  },
  {
   "cell_type": "code",
   "execution_count": 349,
   "metadata": {},
   "outputs": [
    {
     "data": {
      "text/plain": [
       "[0, 1, 2, 3, 4, 5, 6, 7, 8, 9]"
      ]
     },
     "execution_count": 349,
     "metadata": {},
     "output_type": "execute_result"
    }
   ],
   "source": [
    "rdd1.union(rdd2).collect()"
   ]
  },
  {
   "cell_type": "markdown",
   "metadata": {},
   "source": [
    "# Intersection"
   ]
  },
  {
   "cell_type": "code",
   "execution_count": 350,
   "metadata": {},
   "outputs": [],
   "source": [
    "rdd1 = sc.parallelize([1,1,2,3,4,5])"
   ]
  },
  {
   "cell_type": "code",
   "execution_count": 351,
   "metadata": {},
   "outputs": [],
   "source": [
    "rdd2 = sc.parallelize([1,1,4,6])"
   ]
  },
  {
   "cell_type": "code",
   "execution_count": 352,
   "metadata": {},
   "outputs": [
    {
     "data": {
      "text/plain": [
       "[4, 1]"
      ]
     },
     "execution_count": 352,
     "metadata": {},
     "output_type": "execute_result"
    }
   ],
   "source": [
    "rdd1.intersection(rdd2).collect()"
   ]
  },
  {
   "cell_type": "markdown",
   "metadata": {},
   "source": [
    "# Distinct"
   ]
  },
  {
   "cell_type": "code",
   "execution_count": 353,
   "metadata": {},
   "outputs": [],
   "source": [
    "rdd = sc.parallelize([\"a\", \"b\"]).cartesian(sc.parallelize(range(100)))"
   ]
  },
  {
   "cell_type": "code",
   "execution_count": 354,
   "metadata": {},
   "outputs": [
    {
     "data": {
      "text/plain": [
       "[('a', 0),\n",
       " ('a', 1),\n",
       " ('a', 2),\n",
       " ('a', 3),\n",
       " ('a', 4),\n",
       " ('a', 5),\n",
       " ('a', 6),\n",
       " ('a', 7),\n",
       " ('a', 8),\n",
       " ('a', 9),\n",
       " ('a', 10),\n",
       " ('a', 11),\n",
       " ('a', 12),\n",
       " ('a', 13),\n",
       " ('a', 14),\n",
       " ('a', 15),\n",
       " ('a', 16),\n",
       " ('a', 17),\n",
       " ('a', 18),\n",
       " ('a', 19),\n",
       " ('a', 20),\n",
       " ('a', 21),\n",
       " ('a', 22),\n",
       " ('a', 23),\n",
       " ('a', 24),\n",
       " ('a', 25),\n",
       " ('a', 26),\n",
       " ('a', 27),\n",
       " ('a', 28),\n",
       " ('a', 29),\n",
       " ('a', 30),\n",
       " ('a', 31),\n",
       " ('a', 32),\n",
       " ('a', 33),\n",
       " ('a', 34),\n",
       " ('a', 35),\n",
       " ('a', 36),\n",
       " ('a', 37),\n",
       " ('a', 38),\n",
       " ('a', 39),\n",
       " ('a', 40),\n",
       " ('a', 41),\n",
       " ('a', 42),\n",
       " ('a', 43),\n",
       " ('a', 44),\n",
       " ('a', 45),\n",
       " ('a', 46),\n",
       " ('a', 47),\n",
       " ('a', 48),\n",
       " ('a', 49),\n",
       " ('a', 50),\n",
       " ('a', 51),\n",
       " ('a', 52),\n",
       " ('a', 53),\n",
       " ('a', 54),\n",
       " ('a', 55),\n",
       " ('a', 56),\n",
       " ('a', 57),\n",
       " ('a', 58),\n",
       " ('a', 59),\n",
       " ('a', 60),\n",
       " ('a', 61),\n",
       " ('a', 62),\n",
       " ('a', 63),\n",
       " ('a', 64),\n",
       " ('a', 65),\n",
       " ('a', 66),\n",
       " ('a', 67),\n",
       " ('a', 68),\n",
       " ('a', 69),\n",
       " ('a', 70),\n",
       " ('a', 71),\n",
       " ('a', 72),\n",
       " ('a', 73),\n",
       " ('a', 74),\n",
       " ('a', 75),\n",
       " ('a', 76),\n",
       " ('a', 77),\n",
       " ('a', 78),\n",
       " ('a', 79),\n",
       " ('a', 80),\n",
       " ('a', 81),\n",
       " ('a', 82),\n",
       " ('a', 83),\n",
       " ('a', 84),\n",
       " ('a', 85),\n",
       " ('a', 86),\n",
       " ('a', 87),\n",
       " ('a', 88),\n",
       " ('a', 89),\n",
       " ('a', 90),\n",
       " ('a', 91),\n",
       " ('a', 92),\n",
       " ('a', 93),\n",
       " ('a', 94),\n",
       " ('a', 95),\n",
       " ('a', 96),\n",
       " ('a', 97),\n",
       " ('a', 98),\n",
       " ('a', 99),\n",
       " ('b', 0),\n",
       " ('b', 1),\n",
       " ('b', 2),\n",
       " ('b', 3),\n",
       " ('b', 4),\n",
       " ('b', 5),\n",
       " ('b', 6),\n",
       " ('b', 7),\n",
       " ('b', 8),\n",
       " ('b', 9),\n",
       " ('b', 10),\n",
       " ('b', 11),\n",
       " ('b', 12),\n",
       " ('b', 13),\n",
       " ('b', 14),\n",
       " ('b', 15),\n",
       " ('b', 16),\n",
       " ('b', 17),\n",
       " ('b', 18),\n",
       " ('b', 19),\n",
       " ('b', 20),\n",
       " ('b', 21),\n",
       " ('b', 22),\n",
       " ('b', 23),\n",
       " ('b', 24),\n",
       " ('b', 25),\n",
       " ('b', 26),\n",
       " ('b', 27),\n",
       " ('b', 28),\n",
       " ('b', 29),\n",
       " ('b', 30),\n",
       " ('b', 31),\n",
       " ('b', 32),\n",
       " ('b', 33),\n",
       " ('b', 34),\n",
       " ('b', 35),\n",
       " ('b', 36),\n",
       " ('b', 37),\n",
       " ('b', 38),\n",
       " ('b', 39),\n",
       " ('b', 40),\n",
       " ('b', 41),\n",
       " ('b', 42),\n",
       " ('b', 43),\n",
       " ('b', 44),\n",
       " ('b', 45),\n",
       " ('b', 46),\n",
       " ('b', 47),\n",
       " ('b', 48),\n",
       " ('b', 49),\n",
       " ('b', 50),\n",
       " ('b', 51),\n",
       " ('b', 52),\n",
       " ('b', 53),\n",
       " ('b', 54),\n",
       " ('b', 55),\n",
       " ('b', 56),\n",
       " ('b', 57),\n",
       " ('b', 58),\n",
       " ('b', 59),\n",
       " ('b', 60),\n",
       " ('b', 61),\n",
       " ('b', 62),\n",
       " ('b', 63),\n",
       " ('b', 64),\n",
       " ('b', 65),\n",
       " ('b', 66),\n",
       " ('b', 67),\n",
       " ('b', 68),\n",
       " ('b', 69),\n",
       " ('b', 70),\n",
       " ('b', 71),\n",
       " ('b', 72),\n",
       " ('b', 73),\n",
       " ('b', 74),\n",
       " ('b', 75),\n",
       " ('b', 76),\n",
       " ('b', 77),\n",
       " ('b', 78),\n",
       " ('b', 79),\n",
       " ('b', 80),\n",
       " ('b', 81),\n",
       " ('b', 82),\n",
       " ('b', 83),\n",
       " ('b', 84),\n",
       " ('b', 85),\n",
       " ('b', 86),\n",
       " ('b', 87),\n",
       " ('b', 88),\n",
       " ('b', 89),\n",
       " ('b', 90),\n",
       " ('b', 91),\n",
       " ('b', 92),\n",
       " ('b', 93),\n",
       " ('b', 94),\n",
       " ('b', 95),\n",
       " ('b', 96),\n",
       " ('b', 97),\n",
       " ('b', 98),\n",
       " ('b', 99)]"
      ]
     },
     "execution_count": 354,
     "metadata": {},
     "output_type": "execute_result"
    }
   ],
   "source": [
    "rdd.collect()"
   ]
  },
  {
   "cell_type": "code",
   "execution_count": 355,
   "metadata": {},
   "outputs": [],
   "source": [
    "first = rdd.map(lambda x:x[0])"
   ]
  },
  {
   "cell_type": "code",
   "execution_count": 356,
   "metadata": {},
   "outputs": [
    {
     "data": {
      "text/plain": [
       "['a',\n",
       " 'a',\n",
       " 'a',\n",
       " 'a',\n",
       " 'a',\n",
       " 'a',\n",
       " 'a',\n",
       " 'a',\n",
       " 'a',\n",
       " 'a',\n",
       " 'a',\n",
       " 'a',\n",
       " 'a',\n",
       " 'a',\n",
       " 'a',\n",
       " 'a',\n",
       " 'a',\n",
       " 'a',\n",
       " 'a',\n",
       " 'a',\n",
       " 'a',\n",
       " 'a',\n",
       " 'a',\n",
       " 'a',\n",
       " 'a',\n",
       " 'a',\n",
       " 'a',\n",
       " 'a',\n",
       " 'a',\n",
       " 'a',\n",
       " 'a',\n",
       " 'a',\n",
       " 'a',\n",
       " 'a',\n",
       " 'a',\n",
       " 'a',\n",
       " 'a',\n",
       " 'a',\n",
       " 'a',\n",
       " 'a',\n",
       " 'a',\n",
       " 'a',\n",
       " 'a',\n",
       " 'a',\n",
       " 'a',\n",
       " 'a',\n",
       " 'a',\n",
       " 'a',\n",
       " 'a',\n",
       " 'a',\n",
       " 'a',\n",
       " 'a',\n",
       " 'a',\n",
       " 'a',\n",
       " 'a',\n",
       " 'a',\n",
       " 'a',\n",
       " 'a',\n",
       " 'a',\n",
       " 'a',\n",
       " 'a',\n",
       " 'a',\n",
       " 'a',\n",
       " 'a',\n",
       " 'a',\n",
       " 'a',\n",
       " 'a',\n",
       " 'a',\n",
       " 'a',\n",
       " 'a',\n",
       " 'a',\n",
       " 'a',\n",
       " 'a',\n",
       " 'a',\n",
       " 'a',\n",
       " 'a',\n",
       " 'a',\n",
       " 'a',\n",
       " 'a',\n",
       " 'a',\n",
       " 'a',\n",
       " 'a',\n",
       " 'a',\n",
       " 'a',\n",
       " 'a',\n",
       " 'a',\n",
       " 'a',\n",
       " 'a',\n",
       " 'a',\n",
       " 'a',\n",
       " 'a',\n",
       " 'a',\n",
       " 'a',\n",
       " 'a',\n",
       " 'a',\n",
       " 'a',\n",
       " 'a',\n",
       " 'a',\n",
       " 'a',\n",
       " 'a',\n",
       " 'b',\n",
       " 'b',\n",
       " 'b',\n",
       " 'b',\n",
       " 'b',\n",
       " 'b',\n",
       " 'b',\n",
       " 'b',\n",
       " 'b',\n",
       " 'b',\n",
       " 'b',\n",
       " 'b',\n",
       " 'b',\n",
       " 'b',\n",
       " 'b',\n",
       " 'b',\n",
       " 'b',\n",
       " 'b',\n",
       " 'b',\n",
       " 'b',\n",
       " 'b',\n",
       " 'b',\n",
       " 'b',\n",
       " 'b',\n",
       " 'b',\n",
       " 'b',\n",
       " 'b',\n",
       " 'b',\n",
       " 'b',\n",
       " 'b',\n",
       " 'b',\n",
       " 'b',\n",
       " 'b',\n",
       " 'b',\n",
       " 'b',\n",
       " 'b',\n",
       " 'b',\n",
       " 'b',\n",
       " 'b',\n",
       " 'b',\n",
       " 'b',\n",
       " 'b',\n",
       " 'b',\n",
       " 'b',\n",
       " 'b',\n",
       " 'b',\n",
       " 'b',\n",
       " 'b',\n",
       " 'b',\n",
       " 'b',\n",
       " 'b',\n",
       " 'b',\n",
       " 'b',\n",
       " 'b',\n",
       " 'b',\n",
       " 'b',\n",
       " 'b',\n",
       " 'b',\n",
       " 'b',\n",
       " 'b',\n",
       " 'b',\n",
       " 'b',\n",
       " 'b',\n",
       " 'b',\n",
       " 'b',\n",
       " 'b',\n",
       " 'b',\n",
       " 'b',\n",
       " 'b',\n",
       " 'b',\n",
       " 'b',\n",
       " 'b',\n",
       " 'b',\n",
       " 'b',\n",
       " 'b',\n",
       " 'b',\n",
       " 'b',\n",
       " 'b',\n",
       " 'b',\n",
       " 'b',\n",
       " 'b',\n",
       " 'b',\n",
       " 'b',\n",
       " 'b',\n",
       " 'b',\n",
       " 'b',\n",
       " 'b',\n",
       " 'b',\n",
       " 'b',\n",
       " 'b',\n",
       " 'b',\n",
       " 'b',\n",
       " 'b',\n",
       " 'b',\n",
       " 'b',\n",
       " 'b',\n",
       " 'b',\n",
       " 'b',\n",
       " 'b',\n",
       " 'b']"
      ]
     },
     "execution_count": 356,
     "metadata": {},
     "output_type": "execute_result"
    }
   ],
   "source": [
    "first.collect()"
   ]
  },
  {
   "cell_type": "code",
   "execution_count": 357,
   "metadata": {},
   "outputs": [
    {
     "data": {
      "text/plain": [
       "['b', 'a']"
      ]
     },
     "execution_count": 357,
     "metadata": {},
     "output_type": "execute_result"
    }
   ],
   "source": [
    "first.distinct().collect()"
   ]
  },
  {
   "cell_type": "markdown",
   "metadata": {},
   "source": [
    "# Cartesian"
   ]
  },
  {
   "cell_type": "code",
   "execution_count": 358,
   "metadata": {},
   "outputs": [],
   "source": [
    "ice_creams = range(5)"
   ]
  },
  {
   "cell_type": "code",
   "execution_count": 359,
   "metadata": {},
   "outputs": [],
   "source": [
    "cookies = range(7)"
   ]
  },
  {
   "cell_type": "code",
   "execution_count": 360,
   "metadata": {},
   "outputs": [
    {
     "data": {
      "text/plain": [
       "[(0, 0),\n",
       " (0, 1),\n",
       " (0, 2),\n",
       " (0, 3),\n",
       " (0, 4),\n",
       " (0, 5),\n",
       " (0, 6),\n",
       " (1, 0),\n",
       " (1, 1),\n",
       " (1, 2),\n",
       " (1, 3),\n",
       " (1, 4),\n",
       " (1, 5),\n",
       " (1, 6),\n",
       " (2, 0),\n",
       " (2, 1),\n",
       " (2, 2),\n",
       " (2, 3),\n",
       " (2, 4),\n",
       " (2, 5),\n",
       " (2, 6),\n",
       " (3, 0),\n",
       " (3, 1),\n",
       " (3, 2),\n",
       " (3, 3),\n",
       " (3, 4),\n",
       " (3, 5),\n",
       " (3, 6),\n",
       " (4, 0),\n",
       " (4, 1),\n",
       " (4, 2),\n",
       " (4, 3),\n",
       " (4, 4),\n",
       " (4, 5),\n",
       " (4, 6)]"
      ]
     },
     "execution_count": 360,
     "metadata": {},
     "output_type": "execute_result"
    }
   ],
   "source": [
    "[(a,b) for a in ice_creams for b in cookies]"
   ]
  },
  {
   "cell_type": "code",
   "execution_count": 361,
   "metadata": {},
   "outputs": [],
   "source": [
    "ice_creams = sc.parallelize(range(5))"
   ]
  },
  {
   "cell_type": "code",
   "execution_count": 362,
   "metadata": {},
   "outputs": [],
   "source": [
    "cookies = sc.parallelize(range(7))"
   ]
  },
  {
   "cell_type": "code",
   "execution_count": 363,
   "metadata": {},
   "outputs": [],
   "source": [
    "combinations = ice_creams.cartesian(cookies)"
   ]
  },
  {
   "cell_type": "code",
   "execution_count": 364,
   "metadata": {},
   "outputs": [
    {
     "data": {
      "text/plain": [
       "[(0, 0),\n",
       " (0, 1),\n",
       " (0, 2),\n",
       " (1, 0),\n",
       " (1, 1),\n",
       " (1, 2),\n",
       " (0, 3),\n",
       " (0, 4),\n",
       " (0, 5),\n",
       " (0, 6),\n",
       " (1, 3),\n",
       " (1, 4),\n",
       " (1, 5),\n",
       " (1, 6),\n",
       " (2, 0),\n",
       " (2, 1),\n",
       " (2, 2),\n",
       " (3, 0),\n",
       " (4, 0),\n",
       " (3, 1),\n",
       " (3, 2),\n",
       " (4, 1),\n",
       " (4, 2),\n",
       " (2, 3),\n",
       " (2, 4),\n",
       " (2, 5),\n",
       " (2, 6),\n",
       " (3, 3),\n",
       " (4, 3),\n",
       " (3, 4),\n",
       " (3, 5),\n",
       " (4, 4),\n",
       " (4, 5),\n",
       " (3, 6),\n",
       " (4, 6)]"
      ]
     },
     "execution_count": 364,
     "metadata": {},
     "output_type": "execute_result"
    }
   ],
   "source": [
    "combinations.collect()"
   ]
  },
  {
   "cell_type": "markdown",
   "metadata": {},
   "source": [
    "# Pipe"
   ]
  },
  {
   "cell_type": "code",
   "execution_count": 365,
   "metadata": {},
   "outputs": [],
   "source": [
    "numbers = sc.parallelize(range(11))"
   ]
  },
  {
   "cell_type": "code",
   "execution_count": 366,
   "metadata": {},
   "outputs": [
    {
     "data": {
      "text/plain": [
       "['1', '10']"
      ]
     },
     "execution_count": 366,
     "metadata": {},
     "output_type": "execute_result"
    }
   ],
   "source": [
    "numbers.pipe(\"grep 1\").collect()"
   ]
  },
  {
   "cell_type": "code",
   "execution_count": 367,
   "metadata": {},
   "outputs": [],
   "source": [
    "rdd = sc.parallelize([\"b,b\", \"c,c,c\", \"a\"])"
   ]
  },
  {
   "cell_type": "code",
   "execution_count": 368,
   "metadata": {},
   "outputs": [
    {
     "data": {
      "text/plain": [
       "['B,B', 'C,C,C', 'A']"
      ]
     },
     "execution_count": 368,
     "metadata": {},
     "output_type": "execute_result"
    }
   ],
   "source": [
    "rdd.pipe(\"tr '[a-z]' '[A-Z]'\").collect()"
   ]
  },
  {
   "cell_type": "code",
   "execution_count": 369,
   "metadata": {},
   "outputs": [
    {
     "data": {
      "text/plain": [
       "['a']"
      ]
     },
     "execution_count": 369,
     "metadata": {},
     "output_type": "execute_result"
    }
   ],
   "source": [
    "rdd.pipe(\"grep a\").collect()"
   ]
  },
  {
   "cell_type": "code",
   "execution_count": 370,
   "metadata": {},
   "outputs": [
    {
     "data": {
      "text/plain": [
       "['b', 'b', 'c', 'c', 'c', 'a']"
      ]
     },
     "execution_count": 370,
     "metadata": {},
     "output_type": "execute_result"
    }
   ],
   "source": [
    "rdd.pipe(\"tr -s ',' '[\\n*]'\").collect()"
   ]
  },
  {
   "cell_type": "markdown",
   "metadata": {},
   "source": [
    "# Coalesce"
   ]
  },
  {
   "cell_type": "code",
   "execution_count": 371,
   "metadata": {},
   "outputs": [],
   "source": [
    "rdd = sc.parallelize(range(10000), numSlices=100)"
   ]
  },
  {
   "cell_type": "code",
   "execution_count": 372,
   "metadata": {},
   "outputs": [],
   "source": [
    "rdd2 = rdd.coalesce(10)"
   ]
  },
  {
   "cell_type": "markdown",
   "metadata": {},
   "source": [
    "# Repartition"
   ]
  },
  {
   "cell_type": "code",
   "execution_count": 373,
   "metadata": {},
   "outputs": [],
   "source": [
    "numbers = sc.parallelize(range(1000), numSlices=1)"
   ]
  },
  {
   "cell_type": "code",
   "execution_count": 374,
   "metadata": {},
   "outputs": [
    {
     "data": {
      "text/plain": [
       "MapPartitionsRDD[62] at coalesce at NativeMethodAccessorImpl.java:0"
      ]
     },
     "execution_count": 374,
     "metadata": {},
     "output_type": "execute_result"
    }
   ],
   "source": [
    "numbers.repartition(100)"
   ]
  },
  {
   "cell_type": "code",
   "execution_count": 375,
   "metadata": {},
   "outputs": [],
   "source": [
    "pairs = sc.parallelize([[1,1], [1,2], [2,3], [3,3]])"
   ]
  },
  {
   "cell_type": "code",
   "execution_count": 376,
   "metadata": {},
   "outputs": [
    {
     "data": {
      "text/plain": [
       "[[(2, 3)], [(1, 1), (1, 2), (3, 3)]]"
      ]
     },
     "execution_count": 376,
     "metadata": {},
     "output_type": "execute_result"
    }
   ],
   "source": [
    "pairs.repartitionAndSortWithinPartitions(2).glom().collect()"
   ]
  },
  {
   "cell_type": "code",
   "execution_count": 377,
   "metadata": {},
   "outputs": [
    {
     "data": {
      "text/plain": [
       "[[(2, 3), (3, 3)], [(1, 1), (1, 2)]]"
      ]
     },
     "execution_count": 377,
     "metadata": {},
     "output_type": "execute_result"
    }
   ],
   "source": [
    "pairs.repartitionAndSortWithinPartitions(\n",
    "    2, partitionFunc=lambda x:x == 1).glom().collect()"
   ]
  },
  {
   "cell_type": "markdown",
   "metadata": {},
   "source": [
    "# Stop the Spark Context"
   ]
  },
  {
   "cell_type": "code",
   "execution_count": 378,
   "metadata": {},
   "outputs": [],
   "source": [
    "sc.stop()"
   ]
  }
 ],
 "metadata": {
  "interpreter": {
   "hash": "98150487c3ea4eb7b8eab087c675bf955334d0813044dccb8841940644ac4c2f"
  },
  "kernelspec": {
   "display_name": "Python 3.8.3 64-bit ('spark-env': venv)",
   "name": "python3"
  },
  "language_info": {
   "codemirror_mode": {
    "name": "ipython",
    "version": 3
   },
   "file_extension": ".py",
   "mimetype": "text/x-python",
   "name": "python",
   "nbconvert_exporter": "python",
   "pygments_lexer": "ipython3",
   "version": "3.8.12"
  }
 },
 "nbformat": 4,
 "nbformat_minor": 4
}
